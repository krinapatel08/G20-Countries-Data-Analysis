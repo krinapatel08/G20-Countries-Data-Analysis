{
 "cells": [
  {
   "cell_type": "markdown",
   "id": "676cf2c1",
   "metadata": {},
   "source": [
    "# Analyzing G20 Countries: A Data Analytics Project"
   ]
  },
  {
   "cell_type": "markdown",
   "id": "f1a55ec5",
   "metadata": {},
   "source": [
    "## 📊 Introduction\n",
    "\n",
    "This data analytics project explores key economic and social indicators of **G20 nations** using real-time data from the **World Bank API**. The notebook walks through the entire data pipeline—from collection and transformation to exploration and insight generation.\n",
    "\n",
    "---\n",
    "\n",
    "## 🌍 Project Overview\n",
    "\n",
    "The **G20** is a strategic group of the world’s largest and fastest-growing economies. This project aims to analyze and compare their development patterns across indicators like **GDP, life expectancy, CO₂ emissions, education, and sanitation**.\n",
    "\n",
    "---\n",
    "\n",
    "## ⚙️ Methodology\n",
    "\n",
    "We used the **`wbdata` API** to collect structured country-level data, then applied **Pandas** for cleaning and transformation. Our workflow ensures high-quality, analysis-ready data.\n",
    "\n",
    "---\n",
    "\n",
    "## 🔑 Key Steps\n",
    "\n",
    "- **Data Collection**: Automated via the World Bank API (`wbdata`).\n",
    "- **Data Cleaning & Transformation**: Addressed missing values, reformatted country data, and unified indicators.\n",
    "- **Exploratory Data Analysis (EDA)**: Created comparative plots and visualizations to highlight economic trends.\n",
    "- **Insight Generation**: Extracted insights that reflect social and economic conditions in each G20 country.\n",
    "\n",
    "---\n",
    "\n",
    "## 🌐 Why Analyze G20 Countries?\n",
    "\n",
    "The G20 includes both developed and emerging economies, offering a **rich, diverse dataset**. Studying this group helps us:\n",
    "- Compare global development strategies\n",
    "- Identify socioeconomic disparities\n",
    "- Understand the impact of policy decisions on major world economies\n",
    "\n",
    "---\n",
    "\n",
    "## ✅ Outcomes (optional section)\n",
    "\n",
    "- Identified trends in **GDP growth**, **education**, and **sanitation** across regions\n",
    "- Visualized rising **CO₂ emissions** and declining **fertility rates**\n",
    "- Compared key health and economic indicators among member nations\n",
    "\n",
    "---\n",
    "\n",
    "## 💼 Author  \n",
    "**Krina Patel**  \n",
    "B.Tech in CSE | BS in Data Science | Aspiring Data & Business Analyst  \n",
    "**krinapatel@gmail.com** "
   ]
  },
  {
   "cell_type": "code",
   "execution_count": null,
   "id": "5be44ff2",
   "metadata": {},
   "outputs": [],
   "source": [
    "pip install wbdata"
   ]
  },
  {
   "cell_type": "code",
   "execution_count": null,
   "id": "26683b7e",
   "metadata": {
    "ExecuteTime": {
     "end_time": "2023-02-10T17:53:06.459720Z",
     "start_time": "2023-02-10T17:52:57.035168Z"
    }
   },
   "outputs": [],
   "source": [
    "%pip install matplotlib\n",
    "%pip install seaborn\n",
    "\n",
    "import pandas as pd\n",
    "import numpy as np\n",
    "import matplotlib.pyplot as plt\n",
    "import seaborn as sns\n",
    "\n",
    "import wbdata\n"
   ]
  },
  {
   "cell_type": "code",
   "execution_count": null,
   "id": "60f51822",
   "metadata": {
    "ExecuteTime": {
     "end_time": "2023-02-10T17:56:55.113456Z",
     "start_time": "2023-02-10T17:56:54.616127Z"
    },
    "scrolled": false
   },
   "outputs": [],
   "source": [
    "import wbdata\n",
    "wbdata.search_indicators(\"GDP\")"
   ]
  },
  {
   "cell_type": "code",
   "execution_count": null,
   "id": "ffccff83",
   "metadata": {
    "ExecuteTime": {
     "end_time": "2023-02-10T18:01:19.018901Z",
     "start_time": "2023-02-10T18:01:18.992933Z"
    }
   },
   "outputs": [],
   "source": [
    "indicators = {'Indicator Name': [\n",
    "        'Gross Domestic Product (GDP)',\n",
    "        'Gross National Income (GNI)',\n",
    "        'Inflation rate',\n",
    "        'Unemployment rate',\n",
    "        'Poverty rate',\n",
    "        'Life expectancy',\n",
    "        'Literacy rate',\n",
    "        'Access to electricity',\n",
    "        'Mobile phone subscriptions',\n",
    "        'Government expenditure on education',\n",
    "        'Foreign direct investment (FDI)',\n",
    "        'Exports of goods and services',\n",
    "        'Imports of goods and services',\n",
    "        'Gross capital formation',\n",
    "        'Agricultural land area',\n",
    "        'Agricultural production index'\n",
    "    ],\n",
    "    'Indicator ID': [\n",
    "        'NY.GDP.MKTP.CD',\n",
    "        'NY.GNP.MKTP.CD',\n",
    "        'FP.CPI.TOTL.ZG',\n",
    "        'SL.UEM.TOTL.ZS',\n",
    "        'SI.POV.NAHC',\n",
    "        'SP.DYN.LE00.IN',\n",
    "        'SE.ADT.LITR.ZS',\n",
    "        'EG.ELC.ACCS.ZS',\n",
    "        'IT.CEL.SETS.P2',\n",
    "        'SE.XPD.TOTL.GB.ZS',\n",
    "        'BX.KLT.DINV.WD.GD.ZS',\n",
    "        'NE.EXP.GNFS.ZS',\n",
    "        'NE.IMP.GNFS.ZS',\n",
    "        'NE.GDI.TOTL.ZS',\n",
    "        'AG.LND.AGRI.ZS',\n",
    "        'AG.PRD.FOOD.XD'\n",
    "    ]\n",
    "             }"
   ]
  },
  {
   "cell_type": "code",
   "execution_count": null,
   "id": "a2d71341",
   "metadata": {
    "ExecuteTime": {
     "end_time": "2023-02-10T18:01:22.965152Z",
     "start_time": "2023-02-10T18:01:22.950778Z"
    }
   },
   "outputs": [],
   "source": [
    "indicators"
   ]
  },
  {
   "cell_type": "code",
   "execution_count": null,
   "id": "400275c5",
   "metadata": {
    "ExecuteTime": {
     "end_time": "2023-02-10T18:01:46.454742Z",
     "start_time": "2023-02-10T18:01:46.444603Z"
    }
   },
   "outputs": [],
   "source": [
    "indicators = pd.DataFrame(indicators)"
   ]
  },
  {
   "cell_type": "code",
   "execution_count": null,
   "id": "88d20f9f",
   "metadata": {
    "ExecuteTime": {
     "end_time": "2023-02-10T18:01:55.218233Z",
     "start_time": "2023-02-10T18:01:55.180278Z"
    }
   },
   "outputs": [],
   "source": [
    "indicators"
   ]
  },
  {
   "cell_type": "code",
   "execution_count": null,
   "id": "379d3cd5",
   "metadata": {
    "ExecuteTime": {
     "end_time": "2023-02-10T18:03:37.376442Z",
     "start_time": "2023-02-10T18:03:37.364145Z"
    }
   },
   "outputs": [],
   "source": [
    "from datetime import datetime"
   ]
  },
  {
   "cell_type": "code",
   "execution_count": null,
   "id": "49356c4c",
   "metadata": {
    "ExecuteTime": {
     "end_time": "2023-02-10T18:05:56.381253Z",
     "start_time": "2023-02-10T18:05:56.365627Z"
    }
   },
   "outputs": [],
   "source": [
    "# Define the start and end dates for the desired date range\n",
    "start_date = '2015-01-01'\n",
    "end_date = '2020-12-31'\n",
    "\n",
    "# Convert the start date string to a datetime object\n",
    "start_date_obj = datetime.strptime(start_date, \"%Y-%m-%d\")\n",
    "\n",
    "# Convert the end date string to a datetime object\n",
    "end_date_obj = datetime.strptime(end_date, \"%Y-%m-%d\")\n",
    "\n",
    "# Create a tuple containing the start and end date objects\n",
    "data_date = (start_date_obj, end_date_obj)\n"
   ]
  },
  {
   "cell_type": "code",
   "execution_count": null,
   "id": "3c80238a",
   "metadata": {
    "ExecuteTime": {
     "end_time": "2023-02-10T18:06:01.078791Z",
     "start_time": "2023-02-10T18:06:01.065049Z"
    }
   },
   "outputs": [],
   "source": [
    "data_date"
   ]
  },
  {
   "cell_type": "code",
   "execution_count": null,
   "id": "425179f2",
   "metadata": {
    "ExecuteTime": {
     "end_time": "2023-02-10T18:07:06.425089Z",
     "start_time": "2023-02-10T18:07:06.411121Z"
    }
   },
   "outputs": [],
   "source": [
    "# Creating a DataFrame.\n",
    "\n",
    "new_df = pd.DataFrame()"
   ]
  },
  {
   "cell_type": "code",
   "execution_count": null,
   "id": "b06c7a4a",
   "metadata": {
    "ExecuteTime": {
     "end_time": "2023-02-10T18:09:54.903258Z",
     "start_time": "2023-02-10T18:09:54.829742Z"
    },
    "scrolled": false
   },
   "outputs": [],
   "source": [
    "# Retreiving the world bank data for Gross Domestic Product.\n",
    "\n",
    "pd.DataFrame(wbdata.get_data('NY.GDP.MKTP.CD', country='all', data_date=data_date, pandas=True))"
   ]
  },
  {
   "cell_type": "code",
   "execution_count": null,
   "id": "1a552c40",
   "metadata": {
    "ExecuteTime": {
     "end_time": "2023-02-10T18:16:01.897409Z",
     "start_time": "2023-02-10T18:16:01.880302Z"
    }
   },
   "outputs": [],
   "source": [
    "# Extracting indicators for GDP by the indicator ID.\n",
    "\n",
    "indicators[indicators['Indicator ID'] == 'NY.GDP.MKTP.CD']['Indicator Name'].values[0]"
   ]
  },
  {
   "cell_type": "code",
   "execution_count": null,
   "id": "6546d45c",
   "metadata": {
    "ExecuteTime": {
     "end_time": "2023-02-10T18:17:40.867867Z",
     "start_time": "2023-02-10T18:17:40.855576Z"
    }
   },
   "outputs": [],
   "source": [
    "df=pd.DataFrame()"
   ]
  },
  {
   "cell_type": "code",
   "execution_count": null,
   "id": "729a02a9",
   "metadata": {
    "ExecuteTime": {
     "end_time": "2023-02-10T18:18:19.054559Z",
     "start_time": "2023-02-10T18:18:18.534497Z"
    }
   },
   "outputs": [],
   "source": [
    "# Iterate through each indicator ID in the 'Indicator ID' column of the indicators DataFrame\n",
    "for i in indicators['Indicator ID']:\n",
    "    \n",
    "    # Fetch World Bank data for the current indicator ID, all countries, and the specified date range\n",
    "    new_df = wbdata.get_data(indicator=i, country='all', data_date=data_date, pandas=True)\n",
    "    \n",
    "    # Convert the data to a pandas DataFrame and reset the index\n",
    "    new_df = pd.DataFrame(new_df).reset_index()\n",
    "    \n",
    "    # Rename the columns of the new DataFrame\n",
    "    new_df.columns = ['country', 'year', indicators[indicators['Indicator ID'] == i]['Indicator Name'].values[0]]\n",
    "    \n",
    "    # Concatenate the new DataFrame with the existing DataFrame (df) along the columns (axis=1)\n",
    "    df = pd.concat([df, new_df], axis=1)\n"
   ]
  },
  {
   "cell_type": "code",
   "execution_count": null,
   "id": "d77dbf44",
   "metadata": {
    "ExecuteTime": {
     "end_time": "2023-02-10T18:20:48.312119Z",
     "start_time": "2023-02-10T18:20:48.245685Z"
    }
   },
   "outputs": [],
   "source": [
    "df.head()"
   ]
  },
  {
   "cell_type": "code",
   "execution_count": null,
   "id": "325d5348",
   "metadata": {
    "ExecuteTime": {
     "end_time": "2023-02-10T18:20:59.169722Z",
     "start_time": "2023-02-10T18:20:59.147647Z"
    }
   },
   "outputs": [],
   "source": [
    "# Creating  copy of the dataframe:\n",
    "\n",
    "df_1 = df.copy()"
   ]
  },
  {
   "cell_type": "code",
   "execution_count": null,
   "id": "5967f395",
   "metadata": {
    "ExecuteTime": {
     "end_time": "2023-02-10T18:21:28.767423Z",
     "start_time": "2023-02-10T18:21:28.750561Z"
    }
   },
   "outputs": [],
   "source": [
    "# Dropping first two columns i.e Country and Year\n",
    "\n",
    "df_1 = df_1.drop(['country','year'],axis=1)"
   ]
  },
  {
   "cell_type": "code",
   "execution_count": null,
   "id": "0f1f5b3a",
   "metadata": {
    "ExecuteTime": {
     "end_time": "2023-02-10T18:21:34.602524Z",
     "start_time": "2023-02-10T18:21:34.541139Z"
    }
   },
   "outputs": [],
   "source": [
    "df_1.head()"
   ]
  },
  {
   "cell_type": "code",
   "execution_count": null,
   "id": "d54f0606",
   "metadata": {
    "ExecuteTime": {
     "end_time": "2023-02-10T18:22:58.763786Z",
     "start_time": "2023-02-10T18:22:58.739731Z"
    }
   },
   "outputs": [],
   "source": [
    "# Extracting first three columns:\n",
    "\n",
    "df.iloc[:,0:2]"
   ]
  },
  {
   "cell_type": "code",
   "execution_count": null,
   "id": "1dd6a0e6",
   "metadata": {
    "ExecuteTime": {
     "end_time": "2023-02-10T18:23:27.531611Z",
     "start_time": "2023-02-10T18:23:27.515628Z"
    }
   },
   "outputs": [],
   "source": [
    "df_1 = pd.concat([df.iloc[:,0:2],df_1],axis=1)"
   ]
  },
  {
   "cell_type": "code",
   "execution_count": null,
   "id": "aae14b31",
   "metadata": {
    "ExecuteTime": {
     "end_time": "2023-02-10T18:23:35.269945Z",
     "start_time": "2023-02-10T18:23:35.221774Z"
    }
   },
   "outputs": [],
   "source": [
    "df_1.head()"
   ]
  },
  {
   "cell_type": "code",
   "execution_count": null,
   "id": "74860c5c",
   "metadata": {
    "ExecuteTime": {
     "end_time": "2023-02-10T18:25:02.149561Z",
     "start_time": "2023-02-10T18:25:02.127560Z"
    }
   },
   "outputs": [],
   "source": [
    "countries=['Argentina', 'Australia','Brazil', 'Canada', 'China', 'France', 'Germany', 'India', 'Indonesia', 'Italy', 'Japan', 'Republic of Korea', 'Mexico', 'Russia', 'Saudi Arabia', 'South Africa', 'Turkiye', 'United Kingdom', 'United States']"
   ]
  },
  {
   "cell_type": "code",
   "execution_count": null,
   "id": "e61cefd3",
   "metadata": {
    "ExecuteTime": {
     "end_time": "2023-02-10T18:26:39.451252Z",
     "start_time": "2023-02-10T18:26:39.438675Z"
    }
   },
   "outputs": [],
   "source": [
    "# Extract only those columns which match with the df_1 dataframe.\n",
    "\n",
    "dff = df_1[df_1['country'].isin(countries)]"
   ]
  },
  {
   "cell_type": "code",
   "execution_count": null,
   "id": "9e7e3461",
   "metadata": {
    "ExecuteTime": {
     "end_time": "2023-02-10T18:26:44.586503Z",
     "start_time": "2023-02-10T18:26:44.515130Z"
    }
   },
   "outputs": [],
   "source": [
    "dff.head()"
   ]
  },
  {
   "cell_type": "code",
   "execution_count": null,
   "id": "17e778df",
   "metadata": {
    "ExecuteTime": {
     "end_time": "2023-02-10T18:27:05.623172Z",
     "start_time": "2023-02-10T18:27:05.604962Z"
    }
   },
   "outputs": [],
   "source": [
    "dff.shape"
   ]
  },
  {
   "cell_type": "code",
   "execution_count": null,
   "id": "c698d0be",
   "metadata": {
    "ExecuteTime": {
     "end_time": "2023-02-10T18:27:35.030641Z",
     "start_time": "2023-02-10T18:27:35.015305Z"
    }
   },
   "outputs": [],
   "source": [
    "dff.reset_index(drop=True, inplace=True)"
   ]
  },
  {
   "cell_type": "code",
   "execution_count": null,
   "id": "3990c688",
   "metadata": {
    "ExecuteTime": {
     "end_time": "2023-02-10T18:27:38.467739Z",
     "start_time": "2023-02-10T18:27:38.370614Z"
    }
   },
   "outputs": [],
   "source": [
    "dff"
   ]
  },
  {
   "cell_type": "code",
   "execution_count": null,
   "id": "9662248b",
   "metadata": {},
   "outputs": [],
   "source": []
  },
  {
   "cell_type": "markdown",
   "id": "4135acbb",
   "metadata": {},
   "source": [
    "### Exploring the Data"
   ]
  },
  {
   "cell_type": "code",
   "execution_count": null,
   "id": "5db6a150",
   "metadata": {},
   "outputs": [],
   "source": [
    "dff.head()"
   ]
  },
  {
   "cell_type": "code",
   "execution_count": null,
   "id": "a698a96b",
   "metadata": {},
   "outputs": [],
   "source": [
    "dff.info()"
   ]
  },
  {
   "cell_type": "code",
   "execution_count": null,
   "id": "5ffa117d",
   "metadata": {},
   "outputs": [],
   "source": [
    "from warnings import filterwarnings\n",
    "filterwarnings(\"ignore\") # To ignore future warnings."
   ]
  },
  {
   "cell_type": "code",
   "execution_count": null,
   "id": "f9494b74",
   "metadata": {},
   "outputs": [],
   "source": [
    "# Converting the Year to Datetime format.\n",
    "\n",
    "dff['year'] = pd.to_datetime(dff['year'])"
   ]
  },
  {
   "cell_type": "code",
   "execution_count": null,
   "id": "03bcd2ce",
   "metadata": {},
   "outputs": [],
   "source": [
    "# Checking the datatype again.\n",
    "\n",
    "dff.info()"
   ]
  },
  {
   "cell_type": "code",
   "execution_count": null,
   "id": "9e6d58d2",
   "metadata": {},
   "outputs": [],
   "source": [
    "# Statistical Analysis of the dataframe.\n",
    "\n",
    "dff.describe().T"
   ]
  },
  {
   "cell_type": "code",
   "execution_count": null,
   "id": "a3a9c4ec",
   "metadata": {},
   "outputs": [],
   "source": [
    " # transforming the original GDP and GNI values from their original units to billions (BN). \n",
    "    \n",
    "dff['GDP_BN'] = dff['Gross Domestic Product (GDP)']/(10**9)\n",
    "dff['GNI_BN'] = dff['Gross National Income (GNI)']/(10**9)"
   ]
  },
  {
   "cell_type": "code",
   "execution_count": null,
   "id": "7f003c00",
   "metadata": {},
   "outputs": [],
   "source": [
    "selected_cols = dff.columns[4:]"
   ]
  },
  {
   "cell_type": "code",
   "execution_count": null,
   "id": "3a92346a",
   "metadata": {},
   "outputs": [],
   "source": [
    "selected_cols"
   ]
  },
  {
   "cell_type": "code",
   "execution_count": null,
   "id": "37e17d03",
   "metadata": {},
   "outputs": [],
   "source": [
    "dff[selected_cols].describe().T.round()"
   ]
  },
  {
   "cell_type": "code",
   "execution_count": null,
   "id": "6f1d8234",
   "metadata": {},
   "outputs": [],
   "source": [
    "# Visualizing the distribution with the help of Histogram.\n",
    "\n",
    "fig, axs = plt.subplots(nrows=4, ncols=4, figsize=(14,10))\n",
    "axs = axs.flatten()\n",
    "\n",
    "for i, col in enumerate(selected_cols):\n",
    "    sns.histplot(data=dff, x=col, kde=True, ax=axs[i])\n",
    "    axs[i].set_title(col)\n",
    "\n",
    "plt.tight_layout()\n",
    "plt.show()"
   ]
  },
  {
   "cell_type": "code",
   "execution_count": null,
   "id": "66ffba54",
   "metadata": {},
   "outputs": [],
   "source": [
    "# Calculating the Skewness of the columns:\n",
    "\n",
    "dff[selected_cols].skew().sort_values()"
   ]
  },
  {
   "cell_type": "code",
   "execution_count": null,
   "id": "00f1a233",
   "metadata": {},
   "outputs": [],
   "source": [
    "fig, axs = plt.subplots(nrows=4, ncols=4, figsize=(14,10))\n",
    "axs = axs.flatten()\n",
    "\n",
    "for i, col in enumerate(selected_cols):\n",
    "    sns.boxplot(data=dff, x=col, ax=axs[i])\n",
    "    axs[i].set_title(col)\n",
    "\n",
    "plt.tight_layout()\n",
    "plt.show()"
   ]
  },
  {
   "cell_type": "code",
   "execution_count": null,
   "id": "88a1b7cc",
   "metadata": {},
   "outputs": [],
   "source": [
    "def outlier(x):\n",
    "    # Calculate the first quartile (Q1)\n",
    "    q1 = x.quantile(0.25)\n",
    "    \n",
    "    # Calculate the third quartile (Q3)\n",
    "    q3 = x.quantile(0.75)\n",
    "    \n",
    "    # Calculate the interquartile range (IQR)\n",
    "    iqr = q3 - q1\n",
    "    \n",
    "    # Identify outliers using the IQR rule\n",
    "    # Values below Q1 - 1.5*IQR or above Q3 + 1.5*IQR are considered outliers\n",
    "    \n",
    "    return (x < q1 - 1.5 * iqr) | (x > q3 + 1.5 * iqr)\n"
   ]
  },
  {
   "cell_type": "code",
   "execution_count": null,
   "id": "bef739cc",
   "metadata": {},
   "outputs": [],
   "source": [
    "# Initialize an empty list to store outlier percentages\n",
    "outlier_percentages = []\n",
    "\n",
    "# Iterate through each column in the selected columns\n",
    "for col in selected_cols:\n",
    "    # Extract the column data\n",
    "    x = dff[col]\n",
    "    \n",
    "    # Use the previously defined outlier function to identify outliers in the column\n",
    "    outliers = outlier(x)\n",
    "    \n",
    "    # Calculate the percentage of outliers in the column\n",
    "    outlier_percentage = np.mean(outliers) * 100\n",
    "    \n",
    "    # Append the outlier percentage to the list\n",
    "    outlier_percentages.append(outlier_percentage)\n",
    "\n",
    "# Create a DataFrame to store the results\n",
    "result_df = pd.DataFrame({'Column': selected_cols, 'Outlier Percentage': outlier_percentages})\n",
    "\n",
    "# Sort the DataFrame by 'Outlier Percentage' in descending order\n",
    "result_df = result_df.sort_values('Outlier Percentage', ascending=False)\n"
   ]
  },
  {
   "cell_type": "code",
   "execution_count": null,
   "id": "620f02d4",
   "metadata": {},
   "outputs": [],
   "source": [
    "result_df.round()"
   ]
  },
  {
   "cell_type": "code",
   "execution_count": null,
   "id": "ba90a29c",
   "metadata": {},
   "outputs": [],
   "source": [
    "# Plotting the Percentage of the outliers calculted previously.\n",
    "\n",
    "plt.figure(figsize=(11,5))\n",
    "sns.barplot(x=result_df['Column'], y=result_df['Outlier Percentage'])\n",
    "plt.title(\"Outlier Percentage\")\n",
    "plt.xticks(rotation=90)\n",
    "plt.show()"
   ]
  },
  {
   "cell_type": "code",
   "execution_count": null,
   "id": "5cb06e47",
   "metadata": {},
   "outputs": [],
   "source": [
    "dff.isnull().sum()"
   ]
  },
  {
   "cell_type": "markdown",
   "id": "f578c221",
   "metadata": {},
   "source": [
    "### Correlation "
   ]
  },
  {
   "cell_type": "code",
   "execution_count": null,
   "id": "dcde5a1c",
   "metadata": {},
   "outputs": [],
   "source": [
    "dff.corr()"
   ]
  },
  {
   "cell_type": "code",
   "execution_count": null,
   "id": "cc3c3e17",
   "metadata": {},
   "outputs": [],
   "source": [
    "# Plotting the correlation using heatmap:\n",
    "\n",
    "\n",
    "plt.figure(figsize=(8,8))\n",
    "sns.heatmap(dff[selected_cols].corr(), annot=True, fmt='.1f', cmap='turbo')\n",
    "plt.show()"
   ]
  },
  {
   "cell_type": "code",
   "execution_count": null,
   "id": "135cd85a",
   "metadata": {},
   "outputs": [],
   "source": [
    "## Jointplot\n",
    "\n",
    "sns.jointplot(x='GDP_BN', y='GNI_BN', data=dff, height=4, color='olive')\n",
    "plt.show()"
   ]
  },
  {
   "cell_type": "code",
   "execution_count": null,
   "id": "b9e184ca",
   "metadata": {},
   "outputs": [],
   "source": [
    "sns.jointplot(x='Gross capital formation', y='Poverty rate', data=dff, height=4, color='crimson')\n",
    "plt.show()"
   ]
  },
  {
   "cell_type": "code",
   "execution_count": null,
   "id": "30832ccd",
   "metadata": {},
   "outputs": [],
   "source": [
    "sns.jointplot(x='Government expenditure on education', y='Life expectancy', data=dff, height=4, color='blue')\n",
    "plt.show()"
   ]
  },
  {
   "cell_type": "code",
   "execution_count": null,
   "id": "0dca96ed",
   "metadata": {},
   "outputs": [],
   "source": [
    "def top_3(data, parameter):\n",
    "    # Extract unique years from the 'year' column and sort them\n",
    "    year_list = data['year'].dt.year.sort_values().unique()\n",
    "    \n",
    "    # Create an empty DataFrame to store the top 3 values for each year\n",
    "    result_df = pd.DataFrame(columns=year_list, index=[1, 2, 3])\n",
    "    \n",
    "    # Iterate through each year in the sorted year_list\n",
    "    for year in year_list:\n",
    "        # Filter the data for the current year\n",
    "        df_year = data[data['year'].dt.year == year]\n",
    "        \n",
    "        # Group by 'country', sum the values of the specified parameter, \n",
    "        # sort in descending order, and take the top 3 countries\n",
    "        value = df_year.groupby('country')[parameter].sum().sort_values(ascending=False).head(3).index\n",
    "        \n",
    "        # Assign the top 3 countries to the corresponding column in the result_df\n",
    "        result_df[year] = value\n",
    "    \n",
    "    # Return the result DataFrame\n",
    "    return result_df\n"
   ]
  },
  {
   "cell_type": "code",
   "execution_count": null,
   "id": "3e1c4259",
   "metadata": {},
   "outputs": [],
   "source": [
    "from IPython.display import display"
   ]
  },
  {
   "cell_type": "code",
   "execution_count": null,
   "id": "6f9f63f0",
   "metadata": {},
   "outputs": [],
   "source": [
    "for i in selected_cols:\n",
    "    result = top_3(dff,i)\n",
    "    print(i)\n",
    "    display(result)\n",
    "    print('-------------------------------------------------')"
   ]
  },
  {
   "cell_type": "code",
   "execution_count": null,
   "id": "8c8baffe",
   "metadata": {},
   "outputs": [],
   "source": [
    "# Extracting the year from the date time column.\n",
    "\n",
    "dff['year_o'] = dff['year'].dt.year"
   ]
  },
  {
   "cell_type": "code",
   "execution_count": null,
   "id": "534ff48a",
   "metadata": {},
   "outputs": [],
   "source": [
    "dff.head()"
   ]
  },
  {
   "cell_type": "markdown",
   "id": "8383eb4d",
   "metadata": {},
   "source": [
    "### Life Expectancy Analysis:"
   ]
  },
  {
   "cell_type": "code",
   "execution_count": null,
   "id": "fffdce17",
   "metadata": {},
   "outputs": [],
   "source": [
    "life_expectancy = pd.pivot_table(columns='year_o', index='country', values='Life expectancy', data=dff, aggfunc='mean').round(1)"
   ]
  },
  {
   "cell_type": "code",
   "execution_count": null,
   "id": "c32e0d16",
   "metadata": {},
   "outputs": [],
   "source": [
    "life_expectancy.columns"
   ]
  },
  {
   "cell_type": "code",
   "execution_count": null,
   "id": "400d1401",
   "metadata": {},
   "outputs": [],
   "source": [
    "life_expectancy"
   ]
  },
  {
   "cell_type": "code",
   "execution_count": null,
   "id": "5663f8f0",
   "metadata": {},
   "outputs": [],
   "source": [
    "# Calculting the percentage change from 2015 to 2020. \n",
    "\n",
    "life_expectancy['perc_chg'] = round((life_expectancy[2020] - life_expectancy[2015])*100/life_expectancy[2015],1)"
   ]
  },
  {
   "cell_type": "code",
   "execution_count": null,
   "id": "b4c85a24",
   "metadata": {},
   "outputs": [],
   "source": [
    "# Sorting the values in ascending order:\n",
    "\n",
    "life_expectancy = life_expectancy.sort_values(ascending=False, by='perc_chg')"
   ]
  },
  {
   "cell_type": "code",
   "execution_count": null,
   "id": "bc2966e4",
   "metadata": {},
   "outputs": [],
   "source": [
    "life_expectancy"
   ]
  },
  {
   "cell_type": "code",
   "execution_count": null,
   "id": "4c00c567",
   "metadata": {},
   "outputs": [],
   "source": [
    "# Visualizing the plot of percentage change:\n",
    "\n",
    "plt.figure(figsize=(11,5))\n",
    "sns.barplot(x=life_expectancy.index, y=life_expectancy['perc_chg'], palette='viridis')\n",
    "plt.title(\"% Change in Life Expectancy from 2015 to 2020\")\n",
    "plt.xticks(rotation =90)\n",
    "plt.show()"
   ]
  },
  {
   "cell_type": "markdown",
   "id": "2b42401a",
   "metadata": {},
   "source": [
    "### Analyzing the Foreign Direct Investments:"
   ]
  },
  {
   "cell_type": "code",
   "execution_count": null,
   "id": "890eecf2",
   "metadata": {},
   "outputs": [],
   "source": [
    "# Create a pivot table for Foreign Direct Investment (FDI) using 'year_o' as columns, 'country' as index, and 'FDI' as values\n",
    "fdi = pd.pivot_table(columns='year_o', index='country', values='Foreign direct investment (FDI)', data=dff, aggfunc='mean').round(1)\n",
    "\n",
    "# Calculate the percentage change in FDI between the years 2015 and 2020 for each country\n",
    "fdi['perc_chg'] = round((fdi[2020] - fdi[2015]) * 100 / fdi[2015], 1)\n",
    "\n",
    "# Sort the pivot table by the percentage change in descending order\n",
    "fdi = fdi.sort_values(ascending=False, by='perc_chg')\n"
   ]
  },
  {
   "cell_type": "code",
   "execution_count": null,
   "id": "fc04ba08",
   "metadata": {},
   "outputs": [],
   "source": [
    "fdi"
   ]
  },
  {
   "cell_type": "code",
   "execution_count": null,
   "id": "01d4e83b",
   "metadata": {},
   "outputs": [],
   "source": [
    "## Plotting the results \n",
    "\n",
    "plt.figure(figsize=(11,5))\n",
    "sns.barplot(x=fdi.index, y=fdi['perc_chg'], palette='rocket_r')\n",
    "plt.title(\"% Change in FDI from 2015 to 2020\")\n",
    "plt.xticks(rotation =90)\n",
    "plt.show()"
   ]
  },
  {
   "cell_type": "code",
   "execution_count": null,
   "id": "9505e54a",
   "metadata": {},
   "outputs": [],
   "source": [
    "# Analyzing the Import-Export Aspects of the country:\n",
    "\n",
    "dff['net_exim_bal'] = dff['Exports of goods and services'] - dff['Imports of goods and services']\n",
    "\n",
    "\n"
   ]
  },
  {
   "cell_type": "code",
   "execution_count": null,
   "id": "805ce781",
   "metadata": {},
   "outputs": [],
   "source": [
    "dff.head()"
   ]
  },
  {
   "cell_type": "code",
   "execution_count": null,
   "id": "1fd3fb9e",
   "metadata": {},
   "outputs": [],
   "source": [
    "# South American Countries:\n",
    "\n",
    "plt.figure(figsize=(10,4))\n",
    "sns.lineplot(x='year', y='net_exim_bal', data=dff[dff['country'].isin(['Argentina', 'Brazil','Mexico'])], hue='country', ci=False)\n",
    "plt.show()"
   ]
  },
  {
   "cell_type": "code",
   "execution_count": null,
   "id": "03108d8c",
   "metadata": {},
   "outputs": [],
   "source": [
    "# US and Canada:\n",
    "\n",
    "plt.figure(figsize=(10,4))\n",
    "sns.lineplot(x='year', y='net_exim_bal', data=dff[dff['country'].isin(['Canada','United States'])], hue='country', ci=False)\n",
    "plt.show()"
   ]
  },
  {
   "cell_type": "code",
   "execution_count": null,
   "id": "d312d63e",
   "metadata": {},
   "outputs": [],
   "source": []
  }
 ],
 "metadata": {
  "kernelspec": {
   "display_name": "Python 3",
   "language": "python",
   "name": "python3"
  },
  "language_info": {
   "codemirror_mode": {
    "name": "ipython",
    "version": 3
   },
   "file_extension": ".py",
   "mimetype": "text/x-python",
   "name": "python",
   "nbconvert_exporter": "python",
   "pygments_lexer": "ipython3",
   "version": "3.11.3"
  }
 },
 "nbformat": 4,
 "nbformat_minor": 5
}
